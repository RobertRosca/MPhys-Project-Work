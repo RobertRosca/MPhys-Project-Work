{
 "cells": [
  {
   "cell_type": "markdown",
   "metadata": {},
   "source": [
    "# FITS Source Selection - Functions\n",
    "## Preamble\n",
    "Modules:"
   ]
  },
  {
   "cell_type": "code",
   "execution_count": null,
   "metadata": {},
   "outputs": [
    {
     "name": "stderr",
     "output_type": "stream",
     "text": [
      "WARNING: Method definition ==(Base.Nullable{S}, Base.Nullable{T}"
     ]
    }
   ],
   "source": [
    "using FITSIO\n",
    "using DataFrames\n",
    "using Plots\n",
    "using StatPlots\n",
    "\n",
    "using Base.Test # For testing functions\n",
    "using Feather   # Saving data temporarily for tests"
   ]
  },
  {
   "cell_type": "code",
   "execution_count": 2,
   "metadata": {},
   "outputs": [
    {
     "name": "stderr",
     "output_type": "stream",
     "text": [
      ") in module Base at nullable.jl:238 overwritten in module NullableArrays at C:\\Users\\Robert\\.julia\\v0.6\\NullableArrays\\src\\operators.jl:99.\n"
     ]
    }
   ],
   "source": [
    "test_flag = true;"
   ]
  },
  {
   "cell_type": "markdown",
   "metadata": {},
   "source": [
    "## FITSIO Data Extraction\n",
    "### Reading coordinates"
   ]
  },
  {
   "cell_type": "code",
   "execution_count": 3,
   "metadata": {},
   "outputs": [
    {
     "data": {
      "text/plain": [
       "FITS_Coords"
      ]
     },
     "execution_count": 3,
     "metadata": {},
     "output_type": "execute_result"
    }
   ],
   "source": [
    "\"\"\"\n",
    "    FITS_Coords(fits_path)\n",
    "\n",
    "Reads fits file at `fits_path` using the `FITSIO` module, pulls out the second table\n",
    "and reads the `X` and `Y` variables into a `DataFrame`\n",
    "\n",
    "Removes rows with values of `-1`, assumed to be nulled\n",
    "\"\"\"\n",
    "function FITS_Coords(fits_path)\n",
    "    fits_file = FITS(fits_path)\n",
    "    fits_coords = DataFrame(X = read(fits_file[2], \"X\"), Y = read(fits_file[2], \"Y\"))\n",
    "    deleterows!(fits_coords, find(fits_coords[:, :X] .== -1)) # Remove nulled points\n",
    "    \n",
    "    close(fits_file)\n",
    "    \n",
    "    return fits_coords\n",
    "end"
   ]
  },
  {
   "cell_type": "code",
   "execution_count": 4,
   "metadata": {},
   "outputs": [
    {
     "data": {
      "text/plain": [
       "\u001b[1m\u001b[32mTest Passed\u001b[39m\u001b[22m"
      ]
     },
     "execution_count": 4,
     "metadata": {},
     "output_type": "execute_result"
    }
   ],
   "source": [
    "if test_flag\n",
    "let\n",
    "    local fits_path = \"D:\\\\Ubuntu-MPhys-Shared\\\\data_ftp\\\\nustar\\\\data\\\\obs\\\\00\\\\1\\\\10012001002\\\\event_cl\\\\nu10012001002A01_cl.evt.gz\"\n",
    "    #FITS_Coord_test_coords = FITS_Coords(fits_path)\n",
    "    #Feather.write(\".\\\\TestFiles\\\\FITS_Coords_test_file.feather\", FITS_Coord_test_coords)# Saving test data\n",
    "    local FITS_Coord_test_coords_prv = Feather.read(\".\\\\TestFiles\\\\FITS_Coords_test_file.feather\", nullable=false)\n",
    "    local FITS_Coord_test_coords_cur = FITS_Coords(fits_path)\n",
    "\n",
    "    @test FITS_Coord_test_coords_cur == FITS_Coord_test_coords_prv\n",
    "end\n",
    "end"
   ]
  },
  {
   "cell_type": "markdown",
   "metadata": {},
   "source": [
    "### Reading pixel scale data"
   ]
  },
  {
   "cell_type": "code",
   "execution_count": null,
   "metadata": {},
   "outputs": [
    {
     "data": {
      "text/plain": [
       "FITS_pixel_scale"
      ]
     },
     "execution_count": 5,
     "metadata": {},
     "output_type": "execute_result"
    }
   ],
   "source": [
    "\"\"\"\n",
    "    FITS_pixel_scale(fits_path)\n",
    "\n",
    "Reads fits file at `fits_path` using the `FITSIO` module, pulls out the second table\n",
    "and reads the key values addociated with the `X` and `Y` pixel references, degrees and scale\n",
    "\n",
    "Can continue to show coordinates along with selected columns by:\n",
    "\n",
    "    `FITS_pixel_scale(fits_path)[[:coord, :ref_pix]]`\n",
    "\n",
    "Keys are assumed to be from NuSTAR and of the value:\n",
    "\n",
    "    \"TCRPX38\"   -   X ref pix\n",
    "    \"TCRVL38\"   -   X ref deg\n",
    "    \"TCDLT38\"   -   X ref scale\n",
    "\n",
    "    \"TCRPX39\"   -   Y ref pix\n",
    "    \"TCRVL39\"   -   Y ref deg\n",
    "    \"TCDLT39\"   -   Y ref scale\n",
    "\"\"\"\n",
    "function FITS_pixel_scale(fits_path)\n",
    "    fits_file = FITS(fits_path)\n",
    "    fits_evt_table = fits_file[2]\n",
    "    out_scale = DataFrame(coord=[\"X\", \"Y\"])\n",
    "    \n",
    "    read_header(fits_evt_table) # Shows full header for the events table\n",
    "    # Looking through, found that the reference pixel, coordinates and scale are given by:\n",
    "    #read_key(fits_file, \"key_name\" OR position) # Shows key name, value and description\n",
    "\n",
    "    x_ref_pix = read_key(fits_evt_table, \"TCRPX38\")[1] # X ref pix\n",
    "    x_ref_deg = read_key(fits_evt_table, \"TCRVL38\")[1] # X ref deg\n",
    "    x_ref_scl = read_key(fits_evt_table, \"TCDLT38\")[1] # X ref scale\n",
    "\n",
    "    y_ref_pix = read_key(fits_evt_table, \"TCRPX39\")[1] # Y ref pix\n",
    "    y_ref_deg = read_key(fits_evt_table, \"TCRVL39\")[1] # Y ref deg\n",
    "    y_ref_scl = read_key(fits_evt_table, \"TCDLT39\")[1] # Y ref scale\n",
    "    \n",
    "    out_scale[:ref_pix] = [x_ref_pix, y_ref_pix]\n",
    "    out_scale[:ref_deg] = [x_ref_deg, y_ref_deg]\n",
    "    out_scale[:ref_scl] = [x_ref_scl, y_ref_scl]\n",
    "    return out_scale\n",
    "end"
   ]
  },
  {
   "cell_type": "code",
   "execution_count": 6,
   "metadata": {},
   "outputs": [
    {
     "data": {
      "text/plain": [
       "\u001b[1m\u001b[32mTest Passed\u001b[39m\u001b[22m"
      ]
     },
     "execution_count": 6,
     "metadata": {},
     "output_type": "execute_result"
    }
   ],
   "source": [
    "if test_flag\n",
    "let\n",
    "    local fits_path = \"D:\\\\Ubuntu-MPhys-Shared\\\\data_ftp\\\\nustar\\\\data\\\\obs\\\\00\\\\1\\\\10012001002\\\\event_cl\\\\nu10012001002A01_cl.evt.gz\"\n",
    "    #Feather.write(\".\\\\TestFiles\\\\FITS_Pixel_Scale_test_file.feather\", FITS_pixel_scale(fits_path))\n",
    "    local FITS_Pixel_Scale_test_scale_prv = Feather.read(\".\\\\TestFiles\\\\FITS_Pixel_Scale_test_file.feather\", nullable=false)\n",
    "    local FITS_Pixel_Scale_test_scale_cur = FITS_pixel_scale(fits_path)\n",
    "\n",
    "    # Test only checks floating values, as strings get converted to `WeakRefString` type for speed\n",
    "    @test FITS_Pixel_Scale_test_scale_prv[[:ref_pix, :ref_deg, :ref_scl]] == FITS_Pixel_Scale_test_scale_cur[[:ref_pix, :ref_deg, :ref_scl]]\n",
    "end\n",
    "end"
   ]
  },
  {
   "cell_type": "markdown",
   "metadata": {},
   "source": [
    "## Stats\n",
    "### Savitzky-Golay filter"
   ]
  },
  {
   "cell_type": "code",
   "execution_count": null,
   "metadata": {},
   "outputs": [
    {
     "data": {
      "text/plain": [
       "sgolay (generic function with 1 method)"
      ]
     },
     "execution_count": 7,
     "metadata": {},
     "output_type": "execute_result"
    }
   ],
   "source": [
    "function sgolay(order, frameLen)\n",
    "    S = (-(frameLen-1)/2:((frameLen-1)/2)) .^ (0:order)'\n",
    "    (Q, R) = qr(S)\n",
    "    B = Q*Q'\n",
    "    G = Q / R'\n",
    "\n",
    "    return B, G\n",
    "end"
   ]
  },
  {
   "cell_type": "code",
   "execution_count": 8,
   "metadata": {},
   "outputs": [
    {
     "data": {
      "text/plain": [
       "sgolayfilt (generic function with 1 method)"
      ]
     },
     "execution_count": 8,
     "metadata": {},
     "output_type": "execute_result"
    }
   ],
   "source": [
    "function sgolayfilt(x, order, frameLen)\n",
    "    B = sgolay(order, frameLen)[1]\n",
    "    x = x[:]\n",
    "\n",
    "    @assert ndims(x) == 1\n",
    "\n",
    "    ybegin = B[end:-1:round(Int, (frameLen-1)/2 + 2), :] * x[frameLen:-1:1, :]\n",
    "    ycentre = filt(B[round(Int, (frameLen-1)./2 + 1), :], 1, x)\n",
    "    yend = B[round(Int, (frameLen-1)/2):-1:1, :] * x[end:-1:end-(frameLen-1), :]\n",
    "\n",
    "    return y = [ybegin; ycentre[frameLen:end, :]; yend]\n",
    "end"
   ]
  },
  {
   "cell_type": "markdown",
   "metadata": {},
   "source": [
    "## Source Detection"
   ]
  },
  {
   "cell_type": "code",
   "execution_count": null,
   "metadata": {},
   "outputs": [
    {
     "data": {
      "text/plain": [
       "find_source_fwxm (generic function with 1 method)"
      ]
     },
     "execution_count": 14,
     "metadata": {},
     "output_type": "execute_result"
    }
   ],
   "source": [
    "function find_source_fwxm(coord_in; prcnt=0.5, filt_flag=true, verbose=true)\n",
    "    data_out = similar(coord_in, 0)\n",
    "    bnds_out = DataFrame(item = [\"min_ind\", \"max_ind\", \"min_val\", \"max_val\"])\n",
    "\n",
    "    for coord in names(coord_in)\n",
    "        hist_y = StatsBase.fit(Histogram, coord_in[coord], nbins=256, closed=:right).weights\n",
    "        hist_x = StatsBase.fit(Histogram, coord_in[coord], nbins=256, closed=:right).edges[1]\n",
    "\n",
    "        if filt_flag\n",
    "            hist_y_old = copy(hist_y)\n",
    "            hist_y = sgolayfilt(hist_y, 2, 21)\n",
    "        end\n",
    "\n",
    "        max_y_val, max_y_ind  = findmax(hist_y)\n",
    "\n",
    "        max_ind = Int(max_y_ind + findfirst(hist_y[max_y_ind:end] .<= max_y_val*prcnt))\n",
    "        min_ind = Int(max_y_ind - findfirst(hist_y[max_y_ind:-1:1] .<= max_y_val*prcnt))\n",
    "        \n",
    "        if verbose\n",
    "        println(\"Selected region for $(coord): $(hist_x[min_ind]) ($(@sprintf(\"%.3f\", hist_y[min_ind]))) \", \n",
    "                                           \"to $(hist_x[max_ind]) ($(@sprintf(\"%.3f\", hist_y[max_ind])))\")\n",
    "        end\n",
    "\n",
    "        data_out = coord_in[Int(hist_x[min_ind]) .< coord_in[coord] .< Int(hist_x[max_ind]), :]\n",
    "        bnds_out[coord] = [hist_x[min_ind], hist_x[max_ind], hist_y[min_ind], hist_y[max_ind]]\n",
    "    end\n",
    "\n",
    "    return data_out, bnds_out\n",
    "end"
   ]
  },
  {
   "cell_type": "code",
   "execution_count": 15,
   "metadata": {},
   "outputs": [
    {
     "data": {
      "text/plain": [
       "\u001b[1m\u001b[32mTest Passed\u001b[39m\u001b[22m"
      ]
     },
     "execution_count": 15,
     "metadata": {},
     "output_type": "execute_result"
    }
   ],
   "source": [
    "if test_flag\n",
    "let\n",
    "    local fits_path = \"D:\\\\Ubuntu-MPhys-Shared\\\\data_ftp\\\\nustar\\\\data\\\\obs\\\\00\\\\1\\\\10012001002\\\\event_cl\\\\nu10012001002A01_cl.evt.gz\"\n",
    "    local fits_coord = FITS_Coords(fits_path);\n",
    "    #Data_prv, Sel_prv = find_source_fwxm(fits_coord; prcnt=0.5, filt_flag=true)\n",
    "    #Feather.write(\".\\\\TestFiles\\\\FITS_Sel_Coord_Data_test_prv.feather\", Data_prv)\n",
    "    #Feather.write(\".\\\\TestFiles\\\\FITS_Sel_Coord_Sel_test_prv.feather\", Sel_prv)\n",
    "    local FITS_Sel_Coord_Data_test_prv = Feather.read(\".\\\\TestFiles\\\\FITS_Sel_Coord_Data_test_prv.feather\", nullable=false)\n",
    "    local FITS_Sel_Coord_Sel_test_prv = Feather.read(\".\\\\TestFiles\\\\FITS_Sel_Coord_Sel_test_prv.feather\", nullable=false)\n",
    "    local FITS_Sel_Coord_Data_test_cur = find_source_fwxm(fits_coord; prcnt=0.5, filt_flag=true, verbose=false)[1]\n",
    "    local FITS_Sel_Coord_Sel_test_cur = find_source_fwxm(fits_coord; prcnt=0.5, filt_flag=true, verbose=false)[2]\n",
    "\n",
    "    @test FITS_Sel_Coord_Data_test_prv == FITS_Sel_Coord_Data_test_cur\n",
    "    @test FITS_Sel_Coord_Sel_test_prv[[:X, :Y]] == FITS_Sel_Coord_Sel_test_cur[[:X, :Y]]\n",
    "end\n",
    "end"
   ]
  },
  {
   "cell_type": "markdown",
   "metadata": {},
   "source": [
    "# Plotting"
   ]
  },
  {
   "cell_type": "code",
   "execution_count": null,
   "metadata": {},
   "outputs": [],
   "source": []
  }
 ],
 "metadata": {
  "kernelspec": {
   "display_name": "Julia 0.6.1",
   "language": "julia",
   "name": "julia-0.6"
  },
  "language_info": {
   "file_extension": ".jl",
   "mimetype": "application/julia",
   "name": "julia",
   "version": "0.6.1"
  }
 },
 "nbformat": 4,
 "nbformat_minor": 2
}
